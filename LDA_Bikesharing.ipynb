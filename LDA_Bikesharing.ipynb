{
 "cells": [
  {
   "cell_type": "markdown",
   "metadata": {},
   "source": [
    "# This is the Exploratory Data Analysis of the LDA data for bike sharing."
   ]
  },
  {
   "cell_type": "code",
   "execution_count": 1,
   "metadata": {},
   "outputs": [],
   "source": [
    "import os\n",
    "import datetime\n",
    "import pandas as pd\n",
    "from pandas import DataFrame, Series\n",
    "import numpy as np\n",
    "import matplotlib as mpl\n",
    "import matplotlib.pyplot as plt\n",
    "import plotly\n",
    "import plotly.graph_objs as go\n",
    "import plotly.plotly as py\n",
    "import seaborn as sns\n",
    "sns.set(context=\"paper\", font=\"monospace\")\n",
    "\n",
    "%matplotlib inline\n",
    "\n",
    "from matplotlib.ticker import ScalarFormatter, FormatStrFormatter\n",
    "\n",
    "import scipy.stats as stats"
   ]
  },
  {
   "cell_type": "markdown",
   "metadata": {},
   "source": [
    "## Import data and data cleansing"
   ]
  },
  {
   "cell_type": "code",
   "execution_count": 2,
   "metadata": {},
   "outputs": [
    {
     "name": "stdout",
     "output_type": "stream",
     "text": [
      "(171792, 11)\n"
     ]
    },
    {
     "data": {
      "text/html": [
       "<div>\n",
       "<style>\n",
       "    .dataframe thead tr:only-child th {\n",
       "        text-align: right;\n",
       "    }\n",
       "\n",
       "    .dataframe thead th {\n",
       "        text-align: left;\n",
       "    }\n",
       "\n",
       "    .dataframe tbody tr th {\n",
       "        vertical-align: top;\n",
       "    }\n",
       "</style>\n",
       "<table border=\"1\" class=\"dataframe\">\n",
       "  <thead>\n",
       "    <tr style=\"text-align: right;\">\n",
       "      <th></th>\n",
       "      <th>Trip ID</th>\n",
       "      <th>Duration</th>\n",
       "      <th>Start Date</th>\n",
       "      <th>Start Station</th>\n",
       "      <th>Start Terminal</th>\n",
       "      <th>End Date</th>\n",
       "      <th>End Station</th>\n",
       "      <th>End Terminal</th>\n",
       "      <th>Bike #</th>\n",
       "      <th>Subscriber Type</th>\n",
       "      <th>Zip Code</th>\n",
       "    </tr>\n",
       "  </thead>\n",
       "  <tbody>\n",
       "    <tr>\n",
       "      <th>0</th>\n",
       "      <td>432946</td>\n",
       "      <td>406</td>\n",
       "      <td>8/31/2014 22:31</td>\n",
       "      <td>Mountain View Caltrain Station</td>\n",
       "      <td>28</td>\n",
       "      <td>8/31/2014 22:38</td>\n",
       "      <td>Castro Street and El Camino Real</td>\n",
       "      <td>32</td>\n",
       "      <td>17</td>\n",
       "      <td>Subscriber</td>\n",
       "      <td>94040</td>\n",
       "    </tr>\n",
       "    <tr>\n",
       "      <th>1</th>\n",
       "      <td>432945</td>\n",
       "      <td>468</td>\n",
       "      <td>8/31/2014 22:07</td>\n",
       "      <td>Beale at Market</td>\n",
       "      <td>56</td>\n",
       "      <td>8/31/2014 22:15</td>\n",
       "      <td>Market at 4th</td>\n",
       "      <td>76</td>\n",
       "      <td>509</td>\n",
       "      <td>Customer</td>\n",
       "      <td>11231</td>\n",
       "    </tr>\n",
       "    <tr>\n",
       "      <th>2</th>\n",
       "      <td>432944</td>\n",
       "      <td>534</td>\n",
       "      <td>8/31/2014 22:06</td>\n",
       "      <td>Beale at Market</td>\n",
       "      <td>56</td>\n",
       "      <td>8/31/2014 22:15</td>\n",
       "      <td>Market at 4th</td>\n",
       "      <td>76</td>\n",
       "      <td>342</td>\n",
       "      <td>Customer</td>\n",
       "      <td>11231</td>\n",
       "    </tr>\n",
       "    <tr>\n",
       "      <th>3</th>\n",
       "      <td>432942</td>\n",
       "      <td>1041</td>\n",
       "      <td>8/31/2014 21:45</td>\n",
       "      <td>Embarcadero at Sansome</td>\n",
       "      <td>60</td>\n",
       "      <td>8/31/2014 22:02</td>\n",
       "      <td>Steuart at Market</td>\n",
       "      <td>74</td>\n",
       "      <td>603</td>\n",
       "      <td>Customer</td>\n",
       "      <td>94521</td>\n",
       "    </tr>\n",
       "    <tr>\n",
       "      <th>4</th>\n",
       "      <td>432941</td>\n",
       "      <td>1091</td>\n",
       "      <td>8/31/2014 21:44</td>\n",
       "      <td>Embarcadero at Sansome</td>\n",
       "      <td>60</td>\n",
       "      <td>8/31/2014 22:02</td>\n",
       "      <td>Steuart at Market</td>\n",
       "      <td>74</td>\n",
       "      <td>598</td>\n",
       "      <td>Customer</td>\n",
       "      <td>94521</td>\n",
       "    </tr>\n",
       "  </tbody>\n",
       "</table>\n",
       "</div>"
      ],
      "text/plain": [
       "   Trip ID  Duration       Start Date                   Start Station  \\\n",
       "0   432946       406  8/31/2014 22:31  Mountain View Caltrain Station   \n",
       "1   432945       468  8/31/2014 22:07                 Beale at Market   \n",
       "2   432944       534  8/31/2014 22:06                 Beale at Market   \n",
       "3   432942      1041  8/31/2014 21:45          Embarcadero at Sansome   \n",
       "4   432941      1091  8/31/2014 21:44          Embarcadero at Sansome   \n",
       "\n",
       "   Start Terminal         End Date                       End Station  \\\n",
       "0              28  8/31/2014 22:38  Castro Street and El Camino Real   \n",
       "1              56  8/31/2014 22:15                     Market at 4th   \n",
       "2              56  8/31/2014 22:15                     Market at 4th   \n",
       "3              60  8/31/2014 22:02                 Steuart at Market   \n",
       "4              60  8/31/2014 22:02                 Steuart at Market   \n",
       "\n",
       "   End Terminal  Bike # Subscriber Type Zip Code  \n",
       "0            32      17      Subscriber    94040  \n",
       "1            76     509        Customer    11231  \n",
       "2            76     342        Customer    11231  \n",
       "3            74     603        Customer    94521  \n",
       "4            74     598        Customer    94521  "
      ]
     },
     "execution_count": 2,
     "metadata": {},
     "output_type": "execute_result"
    }
   ],
   "source": [
    "df = pd.read_csv(\"GDA DATA.csv\")\n",
    "print(df.shape)#Get the matrix info of the df.\n",
    "df.head()"
   ]
  },
  {
   "cell_type": "code",
   "execution_count": 3,
   "metadata": {},
   "outputs": [
    {
     "data": {
      "text/plain": [
       "Trip ID              0\n",
       "Duration             0\n",
       "Start Date           0\n",
       "Start Station        0\n",
       "Start Terminal       0\n",
       "End Date             0\n",
       "End Station          0\n",
       "End Terminal         0\n",
       "Bike #               0\n",
       "Subscriber Type      0\n",
       "Zip Code           211\n",
       "dtype: int64"
      ]
     },
     "execution_count": 3,
     "metadata": {},
     "output_type": "execute_result"
    }
   ],
   "source": [
    "#Check for missing values. Zip Codes are missing a lot. Even it's not missing, it seems that there are a lot of incorrect ones.\n",
    "df.isnull().sum()"
   ]
  },
  {
   "cell_type": "code",
   "execution_count": 4,
   "metadata": {},
   "outputs": [
    {
     "data": {
      "text/plain": [
       "Trip ID             int64\n",
       "Duration            int64\n",
       "Start Date         object\n",
       "Start Station      object\n",
       "Start Terminal      int64\n",
       "End Date           object\n",
       "End Station        object\n",
       "End Terminal        int64\n",
       "Bike #              int64\n",
       "Subscriber Type    object\n",
       "Zip Code           object\n",
       "dtype: object"
      ]
     },
     "execution_count": 4,
     "metadata": {},
     "output_type": "execute_result"
    }
   ],
   "source": [
    "df.dtypes"
   ]
  },
  {
   "cell_type": "markdown",
   "metadata": {},
   "source": [
    "The \"Start Date\" and the \"End Date\" are objects mixed with dates and times. We can split them to make it easier to analyze."
   ]
  },
  {
   "cell_type": "code",
   "execution_count": 5,
   "metadata": {
    "collapsed": true
   },
   "outputs": [],
   "source": [
    "df1 = df.rename(columns={'Start Date': 'Start_Date', 'End Date': 'End_Date'})\n",
    "df1.Start_Date = pd.to_datetime(df1.Start_Date, format='%m/%d/%Y %H:%M')\n",
    "df1.End_Date = pd.to_datetime(df1.End_Date, format='%m/%d/%Y %H:%M')"
   ]
  },
  {
   "cell_type": "markdown",
   "metadata": {},
   "source": [
    "## Feature engineering on datetime variables"
   ]
  },
  {
   "cell_type": "code",
   "execution_count": 6,
   "metadata": {},
   "outputs": [
    {
     "data": {
      "text/html": [
       "<div>\n",
       "<style>\n",
       "    .dataframe thead tr:only-child th {\n",
       "        text-align: right;\n",
       "    }\n",
       "\n",
       "    .dataframe thead th {\n",
       "        text-align: left;\n",
       "    }\n",
       "\n",
       "    .dataframe tbody tr th {\n",
       "        vertical-align: top;\n",
       "    }\n",
       "</style>\n",
       "<table border=\"1\" class=\"dataframe\">\n",
       "  <thead>\n",
       "    <tr style=\"text-align: right;\">\n",
       "      <th></th>\n",
       "      <th>Trip ID</th>\n",
       "      <th>Duration</th>\n",
       "      <th>Start_Date</th>\n",
       "      <th>Start Station</th>\n",
       "      <th>Start Terminal</th>\n",
       "      <th>End_Date</th>\n",
       "      <th>End Station</th>\n",
       "      <th>End Terminal</th>\n",
       "      <th>Bike #</th>\n",
       "      <th>Subscriber Type</th>\n",
       "      <th>...</th>\n",
       "      <th>S_mon</th>\n",
       "      <th>S_dh</th>\n",
       "      <th>S_YearMonth</th>\n",
       "      <th>E_Date</th>\n",
       "      <th>E_Time</th>\n",
       "      <th>E_wknum</th>\n",
       "      <th>E_wkd</th>\n",
       "      <th>E_mdnum</th>\n",
       "      <th>E_mon</th>\n",
       "      <th>E_dh</th>\n",
       "    </tr>\n",
       "  </thead>\n",
       "  <tbody>\n",
       "    <tr>\n",
       "      <th>0</th>\n",
       "      <td>432946</td>\n",
       "      <td>406</td>\n",
       "      <td>2014-08-31 22:31:00</td>\n",
       "      <td>Mountain View Caltrain Station</td>\n",
       "      <td>28</td>\n",
       "      <td>2014-08-31 22:38:00</td>\n",
       "      <td>Castro Street and El Camino Real</td>\n",
       "      <td>32</td>\n",
       "      <td>17</td>\n",
       "      <td>Subscriber</td>\n",
       "      <td>...</td>\n",
       "      <td>8</td>\n",
       "      <td>22</td>\n",
       "      <td>201408</td>\n",
       "      <td>2014-08-31</td>\n",
       "      <td>22:38:00</td>\n",
       "      <td>6</td>\n",
       "      <td>Sunday</td>\n",
       "      <td>31</td>\n",
       "      <td>8</td>\n",
       "      <td>22</td>\n",
       "    </tr>\n",
       "    <tr>\n",
       "      <th>1</th>\n",
       "      <td>432945</td>\n",
       "      <td>468</td>\n",
       "      <td>2014-08-31 22:07:00</td>\n",
       "      <td>Beale at Market</td>\n",
       "      <td>56</td>\n",
       "      <td>2014-08-31 22:15:00</td>\n",
       "      <td>Market at 4th</td>\n",
       "      <td>76</td>\n",
       "      <td>509</td>\n",
       "      <td>Customer</td>\n",
       "      <td>...</td>\n",
       "      <td>8</td>\n",
       "      <td>22</td>\n",
       "      <td>201408</td>\n",
       "      <td>2014-08-31</td>\n",
       "      <td>22:15:00</td>\n",
       "      <td>6</td>\n",
       "      <td>Sunday</td>\n",
       "      <td>31</td>\n",
       "      <td>8</td>\n",
       "      <td>22</td>\n",
       "    </tr>\n",
       "    <tr>\n",
       "      <th>2</th>\n",
       "      <td>432944</td>\n",
       "      <td>534</td>\n",
       "      <td>2014-08-31 22:06:00</td>\n",
       "      <td>Beale at Market</td>\n",
       "      <td>56</td>\n",
       "      <td>2014-08-31 22:15:00</td>\n",
       "      <td>Market at 4th</td>\n",
       "      <td>76</td>\n",
       "      <td>342</td>\n",
       "      <td>Customer</td>\n",
       "      <td>...</td>\n",
       "      <td>8</td>\n",
       "      <td>22</td>\n",
       "      <td>201408</td>\n",
       "      <td>2014-08-31</td>\n",
       "      <td>22:15:00</td>\n",
       "      <td>6</td>\n",
       "      <td>Sunday</td>\n",
       "      <td>31</td>\n",
       "      <td>8</td>\n",
       "      <td>22</td>\n",
       "    </tr>\n",
       "    <tr>\n",
       "      <th>3</th>\n",
       "      <td>432942</td>\n",
       "      <td>1041</td>\n",
       "      <td>2014-08-31 21:45:00</td>\n",
       "      <td>Embarcadero at Sansome</td>\n",
       "      <td>60</td>\n",
       "      <td>2014-08-31 22:02:00</td>\n",
       "      <td>Steuart at Market</td>\n",
       "      <td>74</td>\n",
       "      <td>603</td>\n",
       "      <td>Customer</td>\n",
       "      <td>...</td>\n",
       "      <td>8</td>\n",
       "      <td>21</td>\n",
       "      <td>201408</td>\n",
       "      <td>2014-08-31</td>\n",
       "      <td>22:02:00</td>\n",
       "      <td>6</td>\n",
       "      <td>Sunday</td>\n",
       "      <td>31</td>\n",
       "      <td>8</td>\n",
       "      <td>22</td>\n",
       "    </tr>\n",
       "    <tr>\n",
       "      <th>4</th>\n",
       "      <td>432941</td>\n",
       "      <td>1091</td>\n",
       "      <td>2014-08-31 21:44:00</td>\n",
       "      <td>Embarcadero at Sansome</td>\n",
       "      <td>60</td>\n",
       "      <td>2014-08-31 22:02:00</td>\n",
       "      <td>Steuart at Market</td>\n",
       "      <td>74</td>\n",
       "      <td>598</td>\n",
       "      <td>Customer</td>\n",
       "      <td>...</td>\n",
       "      <td>8</td>\n",
       "      <td>21</td>\n",
       "      <td>201408</td>\n",
       "      <td>2014-08-31</td>\n",
       "      <td>22:02:00</td>\n",
       "      <td>6</td>\n",
       "      <td>Sunday</td>\n",
       "      <td>31</td>\n",
       "      <td>8</td>\n",
       "      <td>22</td>\n",
       "    </tr>\n",
       "  </tbody>\n",
       "</table>\n",
       "<p>5 rows × 26 columns</p>\n",
       "</div>"
      ],
      "text/plain": [
       "   Trip ID  Duration          Start_Date                   Start Station  \\\n",
       "0   432946       406 2014-08-31 22:31:00  Mountain View Caltrain Station   \n",
       "1   432945       468 2014-08-31 22:07:00                 Beale at Market   \n",
       "2   432944       534 2014-08-31 22:06:00                 Beale at Market   \n",
       "3   432942      1041 2014-08-31 21:45:00          Embarcadero at Sansome   \n",
       "4   432941      1091 2014-08-31 21:44:00          Embarcadero at Sansome   \n",
       "\n",
       "   Start Terminal            End_Date                       End Station  \\\n",
       "0              28 2014-08-31 22:38:00  Castro Street and El Camino Real   \n",
       "1              56 2014-08-31 22:15:00                     Market at 4th   \n",
       "2              56 2014-08-31 22:15:00                     Market at 4th   \n",
       "3              60 2014-08-31 22:02:00                 Steuart at Market   \n",
       "4              60 2014-08-31 22:02:00                 Steuart at Market   \n",
       "\n",
       "   End Terminal  Bike # Subscriber Type ...  S_mon S_dh S_YearMonth  \\\n",
       "0            32      17      Subscriber ...      8   22      201408   \n",
       "1            76     509        Customer ...      8   22      201408   \n",
       "2            76     342        Customer ...      8   22      201408   \n",
       "3            74     603        Customer ...      8   21      201408   \n",
       "4            74     598        Customer ...      8   21      201408   \n",
       "\n",
       "      E_Date    E_Time  E_wknum   E_wkd  E_mdnum  E_mon E_dh  \n",
       "0 2014-08-31  22:38:00        6  Sunday       31      8   22  \n",
       "1 2014-08-31  22:15:00        6  Sunday       31      8   22  \n",
       "2 2014-08-31  22:15:00        6  Sunday       31      8   22  \n",
       "3 2014-08-31  22:02:00        6  Sunday       31      8   22  \n",
       "4 2014-08-31  22:02:00        6  Sunday       31      8   22  \n",
       "\n",
       "[5 rows x 26 columns]"
      ]
     },
     "execution_count": 6,
     "metadata": {},
     "output_type": "execute_result"
    }
   ],
   "source": [
    "df1['S_Date'] = pd.to_datetime(df1['Start_Date'].dt.date)\n",
    "df1['S_Time'] = df1['Start_Date'].dt.time #hours and minutes\n",
    "df1['S_wknum'] = df1['Start_Date'].dt.dayofweek #days' names\n",
    "df1['S_wkd'] = df1['Start_Date'].dt.weekday_name #days' numbers in one week\n",
    "df1['S_mdnum'] = df1['Start_Date'].dt.day #days' numbers in one month\n",
    "df1['S_mon'] = df1['Start_Date'].dt.month # months' numbers in one year\n",
    "df1['S_dh'] = df1['Start_Date'].dt.hour #hours' numbers in one day\n",
    "df1['S_YearMonth'] = df1['Start_Date'].map(lambda x: 100*x.year + x.month) # months & years' of the start time\n",
    "\n",
    "df1['E_Date'] = pd.to_datetime(df1['End_Date'].dt.date)\n",
    "df1['E_Time'] = df1['End_Date'].dt.time\n",
    "df1['E_wknum'] = df1['End_Date'].dt.dayofweek\n",
    "df1['E_wkd'] = df1['End_Date'].dt.weekday_name\n",
    "df1['E_mdnum'] = df1['End_Date'].dt.day\n",
    "df1['E_mon'] = df1['End_Date'].dt.month\n",
    "df1['E_dh'] = df1['End_Date'].dt.hour\n",
    "\n",
    "df1.head()"
   ]
  },
  {
   "cell_type": "markdown",
   "metadata": {},
   "source": [
    "According to the start time and the end time, it seems that the Duration variable is in the unit of second. \n",
    "We can convert it into minutes."
   ]
  },
  {
   "cell_type": "code",
   "execution_count": 7,
   "metadata": {
    "scrolled": true
   },
   "outputs": [
    {
     "data": {
      "text/plain": [
       "count    171792.000000\n",
       "mean         18.875237\n",
       "std         101.403916\n",
       "min           1.000000\n",
       "25%           5.750000\n",
       "50%           8.616667\n",
       "75%          12.683333\n",
       "max       11941.333333\n",
       "Name: Duration, dtype: float64"
      ]
     },
     "execution_count": 7,
     "metadata": {},
     "output_type": "execute_result"
    }
   ],
   "source": [
    "df1.Duration /= 60\n",
    "df1.Duration.describe()"
   ]
  },
  {
   "cell_type": "markdown",
   "metadata": {},
   "source": [
    "The average of the trip is 18.87 minutes long."
   ]
  },
  {
   "cell_type": "code",
   "execution_count": 8,
   "metadata": {},
   "outputs": [
    {
     "name": "stdout",
     "output_type": "stream",
     "text": [
      "There are 0 duplications in the dataset.\n"
     ]
    },
    {
     "data": {
      "text/html": [
       "<div>\n",
       "<style>\n",
       "    .dataframe thead tr:only-child th {\n",
       "        text-align: right;\n",
       "    }\n",
       "\n",
       "    .dataframe thead th {\n",
       "        text-align: left;\n",
       "    }\n",
       "\n",
       "    .dataframe tbody tr th {\n",
       "        vertical-align: top;\n",
       "    }\n",
       "</style>\n",
       "<table border=\"1\" class=\"dataframe\">\n",
       "  <thead>\n",
       "    <tr style=\"text-align: right;\">\n",
       "      <th></th>\n",
       "      <th>Trip ID</th>\n",
       "      <th>Duration</th>\n",
       "      <th>Start_Date</th>\n",
       "      <th>Start Station</th>\n",
       "      <th>Start Terminal</th>\n",
       "      <th>End_Date</th>\n",
       "      <th>End Station</th>\n",
       "      <th>End Terminal</th>\n",
       "      <th>Bike #</th>\n",
       "      <th>Subscriber Type</th>\n",
       "      <th>...</th>\n",
       "      <th>S_dh</th>\n",
       "      <th>S_YearMonth</th>\n",
       "      <th>E_Date</th>\n",
       "      <th>E_Time</th>\n",
       "      <th>E_wknum</th>\n",
       "      <th>E_wkd</th>\n",
       "      <th>E_mdnum</th>\n",
       "      <th>E_mon</th>\n",
       "      <th>E_dh</th>\n",
       "      <th>is_duplicated</th>\n",
       "    </tr>\n",
       "  </thead>\n",
       "  <tbody>\n",
       "  </tbody>\n",
       "</table>\n",
       "<p>0 rows × 27 columns</p>\n",
       "</div>"
      ],
      "text/plain": [
       "Empty DataFrame\n",
       "Columns: [Trip ID, Duration, Start_Date, Start Station, Start Terminal, End_Date, End Station, End Terminal, Bike #, Subscriber Type, Zip Code, S_Date, S_Time, S_wknum, S_wkd, S_mdnum, S_mon, S_dh, S_YearMonth, E_Date, E_Time, E_wknum, E_wkd, E_mdnum, E_mon, E_dh, is_duplicated]\n",
       "Index: []\n",
       "\n",
       "[0 rows x 27 columns]"
      ]
     },
     "execution_count": 8,
     "metadata": {},
     "output_type": "execute_result"
    }
   ],
   "source": [
    "# Check duplicated rows. I added a flag called \"is_duplicated\" to indentify the dups.\n",
    "df2 = df1\n",
    "df2['is_duplicated'] = df2.duplicated()\n",
    "dup_sum = df2['is_duplicated'].sum()\n",
    "dup_df = df2[df2.is_duplicated == 1] # Output the  duplicational dataframe.\n",
    "print (\"There are {0} duplications in the dataset.\".format(dup_sum))\n",
    "dup_df"
   ]
  },
  {
   "cell_type": "markdown",
   "metadata": {},
   "source": [
    "## Visualization based on time frames"
   ]
  },
  {
   "cell_type": "markdown",
   "metadata": {},
   "source": [
    "We can visualize the number of deliveries grouping by different time frames."
   ]
  },
  {
   "cell_type": "code",
   "execution_count": 9,
   "metadata": {},
   "outputs": [
    {
     "data": {
      "image/png": "[encoded data removed]",
      "text/plain": [
       "<matplotlib.figure.Figure at 0x10ce43748>"
      ]
     },
     "metadata": {},
     "output_type": "display_data"
    }
   ],
   "source": [
    "df2_month = df2.pivot_table(index=['S_mon'],\n",
    "                                  values='Trip ID',\n",
    "                                  aggfunc='count')\n",
    "df2_month.plot(kind='bar', figsize=(8,6))\n",
    "plt.xlabel('Month')\n",
    "plt.ylabel('Total Trips')\n",
    "plt.title('Trip Started by Month');\n"
   ]
  },
  {
   "cell_type": "code",
   "execution_count": 10,
   "metadata": {
    "scrolled": true
   },
   "outputs": [
    {
     "data": {
      "image/png": "[encoded data removed]",
      "text/plain": [
       "<matplotlib.figure.Figure at 0x11c31e748>"
      ]
     },
     "metadata": {},
     "output_type": "display_data"
    }
   ],
   "source": [
    "df2_weekdays = df2.pivot_table(index=['S_wknum','S_wkd'],\n",
    "                                  values='Trip ID',\n",
    "                                  aggfunc='count')\n",
    "df2_weekdays.plot(kind='bar', figsize=(8,6))\n",
    "plt.xlabel('Week Day')\n",
    "plt.ylabel('Total Trips')\n",
    "\n",
    "plt.title('Trip Started by Week Day');\n"
   ]
  },
  {
   "cell_type": "markdown",
   "metadata": {},
   "source": [
    "\n",
    "Weekdays have equally high volume of trips. It's weird that we might arbitrarily think the \n",
    "shared bikes might have higher needs on weekends because people want to get rid of driving in the heavy traffic on weekends. It seems that people might use shared bike for commuting more. "
   ]
  },
  {
   "cell_type": "code",
   "execution_count": 11,
   "metadata": {
    "scrolled": false
   },
   "outputs": [
    {
     "data": {
      "image/png": "[encoded data removed]",
      "text/plain": [
       "<matplotlib.figure.Figure at 0x115869588>"
      ]
     },
     "metadata": {},
     "output_type": "display_data"
    }
   ],
   "source": [
    "# We can explore if there is a latent pattern for each day in a month.\n",
    "\n",
    "df2_monthdays = df2.pivot_table(index=['S_mdnum'],\n",
    "                                  values='Trip ID',\n",
    "                                  aggfunc='count')\n",
    "df2_monthdays.plot(kind='bar', figsize=(8,6))\n",
    "plt.xlabel('Month Day')\n",
    "plt.ylabel('Total Trips')\n",
    "plt.title('Trip Started by Month Day');\n",
    "\n",
    "# There is no known pattern for the month_day barchart except that 31st has the lowest counts."
   ]
  },
  {
   "cell_type": "markdown",
   "metadata": {},
   "source": [
    "We can explore starting hours and ending hours of trips."
   ]
  },
  {
   "cell_type": "code",
   "execution_count": 12,
   "metadata": {
    "scrolled": true
   },
   "outputs": [
    {
     "data": {
      "image/png": "[encoded data removed]",
      "text/plain": [
       "<matplotlib.figure.Figure at 0x10cd7ac18>"
      ]
     },
     "metadata": {},
     "output_type": "display_data"
    }
   ],
   "source": [
    "# Now it's the time for hours' distribution.\n",
    "\n",
    "df2_shours = df2.pivot_table(index=['S_dh'],\n",
    "                                  values='Trip ID',\n",
    "                                  aggfunc='count')\n",
    "df2_shours.plot(kind='bar', figsize=(8,6))\n",
    "plt.ylabel('Total Trips')\n",
    "plt.title('Trips started by Hours');\n"
   ]
  },
  {
   "cell_type": "code",
   "execution_count": 13,
   "metadata": {},
   "outputs": [
    {
     "data": {
      "image/png": "[encoded data removed]",
      "text/plain": [
       "<matplotlib.figure.Figure at 0x118c8d710>"
      ]
     },
     "metadata": {},
     "output_type": "display_data"
    }
   ],
   "source": [
    "df2_ehours = df2.pivot_table(index=['E_dh'],\n",
    "                                  values='Trip ID',\n",
    "                                  aggfunc='count')\n",
    "df2_ehours.plot(kind='bar', figsize=(8,6))\n",
    "plt.ylabel('Total Trips')\n",
    "plt.title('Trips ended by Hours');"
   ]
  },
  {
   "cell_type": "markdown",
   "metadata": {},
   "source": [
    "We can figure out that peak hours are in commuting hours. The distrition of the starting hours and ending hours are almost the same, which valids that the lengh of most of trips are less than one hour. (The average lengh is 18.87 mins as we saw before)"
   ]
  },
  {
   "cell_type": "code",
   "execution_count": 14,
   "metadata": {},
   "outputs": [
    {
     "data": {
      "text/html": [
       "<div>\n",
       "<style>\n",
       "    .dataframe thead tr:only-child th {\n",
       "        text-align: right;\n",
       "    }\n",
       "\n",
       "    .dataframe thead th {\n",
       "        text-align: left;\n",
       "    }\n",
       "\n",
       "    .dataframe tbody tr th {\n",
       "        vertical-align: top;\n",
       "    }\n",
       "</style>\n",
       "<table border=\"1\" class=\"dataframe\">\n",
       "  <thead>\n",
       "    <tr style=\"text-align: right;\">\n",
       "      <th></th>\n",
       "      <th>start_weekdays</th>\n",
       "      <th>start_hours</th>\n",
       "      <th>Trip_Counts</th>\n",
       "    </tr>\n",
       "  </thead>\n",
       "  <tbody>\n",
       "    <tr>\n",
       "      <th>0</th>\n",
       "      <td>Friday</td>\n",
       "      <td>0</td>\n",
       "      <td>79</td>\n",
       "    </tr>\n",
       "    <tr>\n",
       "      <th>1</th>\n",
       "      <td>Friday</td>\n",
       "      <td>1</td>\n",
       "      <td>37</td>\n",
       "    </tr>\n",
       "    <tr>\n",
       "      <th>2</th>\n",
       "      <td>Friday</td>\n",
       "      <td>2</td>\n",
       "      <td>20</td>\n",
       "    </tr>\n",
       "    <tr>\n",
       "      <th>3</th>\n",
       "      <td>Friday</td>\n",
       "      <td>3</td>\n",
       "      <td>12</td>\n",
       "    </tr>\n",
       "    <tr>\n",
       "      <th>4</th>\n",
       "      <td>Friday</td>\n",
       "      <td>4</td>\n",
       "      <td>20</td>\n",
       "    </tr>\n",
       "  </tbody>\n",
       "</table>\n",
       "</div>"
      ],
      "text/plain": [
       "  start_weekdays  start_hours  Trip_Counts\n",
       "0         Friday            0           79\n",
       "1         Friday            1           37\n",
       "2         Friday            2           20\n",
       "3         Friday            3           12\n",
       "4         Friday            4           20"
      ]
     },
     "execution_count": 14,
     "metadata": {},
     "output_type": "execute_result"
    }
   ],
   "source": [
    "#Let's do some pivot research. We can group the data by Weekday and hour\n",
    "ssummary = df2.groupby(['S_wkd', 'S_dh'])['Trip ID'].count()\n",
    "#reset index\n",
    "ssummary = ssummary.reset_index()\n",
    "#convert to dataframe\n",
    "ssummary = pd.DataFrame(ssummary)\n",
    "#browse data\n",
    "#rename last column\n",
    "ssummary=ssummary.rename(columns = {'Trip ID':'Trip_Counts', \\\n",
    "                                  'S_dh' : 'start_hours', 'S_wkd' : 'start_weekdays'}) \n",
    "ssummary.head()"
   ]
  },
  {
   "cell_type": "code",
   "execution_count": 15,
   "metadata": {},
   "outputs": [
    {
     "data": {
      "image/png": "[encoded data removed]",
      "text/plain": [
       "<matplotlib.figure.Figure at 0x118dc14a8>"
      ]
     },
     "metadata": {},
     "output_type": "display_data"
    }
   ],
   "source": [
    "#Now visualize it.\n",
    "sns.set_style('whitegrid')\n",
    "ax = sns.pointplot(x=\"start_hours\", y=\"Trip_Counts\", hue=\"start_weekdays\", data=ssummary)\n",
    "handles,labels = ax.get_legend_handles_labels()\n",
    "#reordering legend content\n",
    "handles = [handles[1], handles[5], handles[6], handles[4], handles[0], handles[2], handles[3]]\n",
    "labels = [labels[1], labels[5], labels[6], labels[4], labels[0], labels[2], labels[3]]\n",
    "ax.yaxis.set_major_formatter(FormatStrFormatter('%.0f'))\n",
    "ax.set_xlabel('Trip start hours', fontsize = 12)\n",
    "ax.set_ylabel('Count of Trips', fontsize = 12)\n",
    "ax.set_title('Hourly Trips By Day of the Week', fontsize=16)\n",
    "ax.tick_params(labelsize = 8)\n",
    "ax.legend(handles,labels,loc=0, title=\"Legend\", prop={'size':9})\n",
    "ax.get_legend().get_title().set_fontsize('8')\n",
    "plt.show()\n",
    "\n"
   ]
  },
  {
   "cell_type": "markdown",
   "metadata": {},
   "source": [
    "Now we can easlily see that Sundays and Saturdays are having different patterns from weekdays. Weekdays have to significant peaks(M shape), while weekends have a bell shape."
   ]
  },
  {
   "cell_type": "markdown",
   "metadata": {},
   "source": [
    "## Visualization by operations"
   ]
  },
  {
   "cell_type": "markdown",
   "metadata": {},
   "source": [
    "We want to have an intuition of types of riders. We can see if subscribers use shared bikes more or random customers use them more. There are two types of riders: Random customers and subscribers. We want to increase the base of subscribers because they may bring steady cash flow to the company. We also want to track the subscribers' engagement(activeness) and the retention/growth/churn rates."
   ]
  },
  {
   "cell_type": "code",
   "execution_count": 16,
   "metadata": {
    "scrolled": true
   },
   "outputs": [
    {
     "data": {
      "text/html": [
       "<div>\n",
       "<style>\n",
       "    .dataframe thead tr:only-child th {\n",
       "        text-align: right;\n",
       "    }\n",
       "\n",
       "    .dataframe thead th {\n",
       "        text-align: left;\n",
       "    }\n",
       "\n",
       "    .dataframe tbody tr th {\n",
       "        vertical-align: top;\n",
       "    }\n",
       "</style>\n",
       "<table border=\"1\" class=\"dataframe\">\n",
       "  <thead>\n",
       "    <tr style=\"text-align: right;\">\n",
       "      <th></th>\n",
       "      <th>start_year&amp;month</th>\n",
       "      <th>subscriber_type</th>\n",
       "      <th>Trip_Counts</th>\n",
       "    </tr>\n",
       "  </thead>\n",
       "  <tbody>\n",
       "    <tr>\n",
       "      <th>0</th>\n",
       "      <td>201403</td>\n",
       "      <td>Customer</td>\n",
       "      <td>4009</td>\n",
       "    </tr>\n",
       "    <tr>\n",
       "      <th>1</th>\n",
       "      <td>201403</td>\n",
       "      <td>Subscriber</td>\n",
       "      <td>20584</td>\n",
       "    </tr>\n",
       "    <tr>\n",
       "      <th>2</th>\n",
       "      <td>201404</td>\n",
       "      <td>Customer</td>\n",
       "      <td>4083</td>\n",
       "    </tr>\n",
       "    <tr>\n",
       "      <th>3</th>\n",
       "      <td>201404</td>\n",
       "      <td>Subscriber</td>\n",
       "      <td>22138</td>\n",
       "    </tr>\n",
       "    <tr>\n",
       "      <th>4</th>\n",
       "      <td>201405</td>\n",
       "      <td>Customer</td>\n",
       "      <td>5125</td>\n",
       "    </tr>\n",
       "  </tbody>\n",
       "</table>\n",
       "</div>"
      ],
      "text/plain": [
       "   start_year&month subscriber_type  Trip_Counts\n",
       "0            201403        Customer         4009\n",
       "1            201403      Subscriber        20584\n",
       "2            201404        Customer         4083\n",
       "3            201404      Subscriber        22138\n",
       "4            201405        Customer         5125"
      ]
     },
     "execution_count": 16,
     "metadata": {},
     "output_type": "execute_result"
    }
   ],
   "source": [
    "#Create a table containing trip coutns grouping by time and the entity type.\n",
    "\n",
    "ridersummary = df2.groupby(['S_YearMonth', 'Subscriber Type'])['Trip ID'].count()\n",
    "ridersummary = ridersummary.reset_index()\n",
    "ridersummary = pd.DataFrame(ridersummary)\n",
    "\n",
    "ridersummary=ridersummary.rename(columns = {'Trip ID':'Trip_Counts', \\\n",
    "                                  'S_YearMonth' : 'start_year&month', 'Subscriber Type' : 'subscriber_type'}) \n",
    "ridersummary.head()"
   ]
  },
  {
   "cell_type": "code",
   "execution_count": 17,
   "metadata": {},
   "outputs": [
    {
     "data": {
      "image/png": "[encoded data removed]",
      "text/plain": [
       "<matplotlib.figure.Figure at 0x118d3a978>"
      ]
     },
     "metadata": {},
     "output_type": "display_data"
    },
    {
     "data": {
      "text/plain": [
       "<matplotlib.figure.Figure at 0x118c29080>"
      ]
     },
     "metadata": {},
     "output_type": "display_data"
    }
   ],
   "source": [
    "sns.set_style('whitegrid')\n",
    "ax = sns.pointplot(x=\"start_year&month\", y=\"Trip_Counts\", hue=\"subscriber_type\", data=ridersummary)\n",
    "handles,labels = ax.get_legend_handles_labels()\n",
    "ax.yaxis.set_major_formatter(FormatStrFormatter('%.0f'))\n",
    "ax.set_xlabel('Trip Start Month', fontsize = 15)\n",
    "ax.set_ylabel('Count of Trips', fontsize = 15)\n",
    "ax.set_title('Trips By Types', fontsize=16)\n",
    "ax.tick_params(labelsize = 11)\n",
    "ax.legend(handles,labels,loc=0, title=\"Legend\", prop={'size':10})\n",
    "ax.get_legend().get_title().set_fontsize('9')\n",
    "plt.figure(figsize=(5,3))\n",
    "plt.show()"
   ]
  },
  {
   "cell_type": "markdown",
   "metadata": {},
   "source": [
    "There is a little conern of subscribers' engagement in August 2014. There are several possbilities: Subscribers are churning, seasonality, competitors' stretegies, etc."
   ]
  },
  {
   "cell_type": "code",
   "execution_count": 18,
   "metadata": {},
   "outputs": [
    {
     "data": {
      "text/plain": [
       "<matplotlib.axes._subplots.AxesSubplot at 0x118d3a550>"
      ]
     },
     "execution_count": 18,
     "metadata": {},
     "output_type": "execute_result"
    },
    {
     "data": {
      "image/png": "[encoded data removed]",
      "text/plain": [
       "<matplotlib.figure.Figure at 0x118dbb080>"
      ]
     },
     "metadata": {},
     "output_type": "display_data"
    }
   ],
   "source": [
    "group_by_wkd = df1.groupby(['S_wkd','Subscriber Type'])\n",
    "en_type_wkd = group_by_wkd.size().unstack()\n",
    "en_type_wkd.plot(kind = 'barh', stacked = True, \n",
    "                 figsize = [12,9], colormap = 'summer', title = 'Subscriber type by weekdays')"
   ]
  },
  {
   "cell_type": "markdown",
   "metadata": {},
   "source": [
    "We surprisingly found that on weekdays, subscribers predominate the whole rider group. Rather, on weekends, random customers and subscribers are more equal. Even customers are slightly more than subscribers."
   ]
  },
  {
   "cell_type": "code",
   "execution_count": 19,
   "metadata": {
    "scrolled": true
   },
   "outputs": [
    {
     "data": {
      "text/plain": [
       "94107    16179\n",
       "94105    10337\n",
       "94133     8157\n",
       "94103     6434\n",
       "94111     5742\n",
       "Name: Zip Code, dtype: int64"
      ]
     },
     "execution_count": 19,
     "metadata": {},
     "output_type": "execute_result"
    }
   ],
   "source": [
    "#Top 5 subscribers' zipcodes\n",
    "s_hi = df1['Zip Code'].value_counts()[:5]\n",
    "s_hi"
   ]
  },
  {
   "cell_type": "markdown",
   "metadata": {},
   "source": [
    "We can see most of our subscribers are from 94107(Mission Bay/Dogpatch/Petero Hill), 94105(South Beach), 94133(North Beach/Russian Hill), 94103(SoMa), 94111(Financial District)."
   ]
  },
  {
   "cell_type": "markdown",
   "metadata": {},
   "source": [
    "## Visualization by geo_info"
   ]
  },
  {
   "cell_type": "markdown",
   "metadata": {},
   "source": [
    "Because the lack of longitude and latitude, I can't easily map the trips on a real map. I wish I can have this info in the future."
   ]
  },
  {
   "cell_type": "markdown",
   "metadata": {},
   "source": [
    "We can find out the top 10 busiest stations during the morning & evening peak hours."
   ]
  },
  {
   "cell_type": "code",
   "execution_count": 20,
   "metadata": {},
   "outputs": [
    {
     "name": "stdout",
     "output_type": "stream",
     "text": [
      "San Francisco Caltrain (Townsend at 4th)         29682\n",
      "Harry Bridges Plaza (Ferry Building)             16244\n",
      "Embarcadero at Sansome                           15151\n",
      "Market at Sansome                                14698\n",
      "San Francisco Caltrain 2 (330 Townsend)          14490\n",
      "2nd at Townsend                                  14235\n",
      "Steuart at Market                                12566\n",
      "Temporary Transbay Terminal (Howard at Beale)    12298\n",
      "Townsend at 7th                                  11621\n",
      "Market at 4th                                    10362\n",
      "dtype: int64\n"
     ]
    },
    {
     "data": {
      "image/png": "[encoded data removed]",
      "text/plain": [
       "<matplotlib.figure.Figure at 0x1187296a0>"
      ]
     },
     "metadata": {},
     "output_type": "display_data"
    }
   ],
   "source": [
    "#Overall stats\n",
    "hi_volume = df1[['Start Station', 'End Station']].stack().value_counts()[:10]\n",
    "hi_volume.plot(kind='bar', figsize=(15,7))\n",
    "plt.ylabel('Total Trips', fontsize=14)\n",
    "plt.title('Station names', fontsize=14)\n",
    "print(hi_volume)"
   ]
  },
  {
   "cell_type": "markdown",
   "metadata": {},
   "source": [
    "Morning peak stations."
   ]
  },
  {
   "cell_type": "code",
   "execution_count": 21,
   "metadata": {},
   "outputs": [
    {
     "name": "stdout",
     "output_type": "stream",
     "text": [
      "San Francisco Caltrain (Townsend at 4th)         7101\n",
      "San Francisco Caltrain 2 (330 Townsend)          3518\n",
      "Temporary Transbay Terminal (Howard at Beale)    3346\n",
      "Harry Bridges Plaza (Ferry Building)             3134\n",
      "Steuart at Market                                2243\n",
      "Grant Avenue at Columbus Avenue                  1750\n",
      "2nd at Townsend                                  1683\n",
      "Market at Sansome                                1431\n",
      "Beale at Market                                  1374\n",
      "Civic Center BART (7th at Market)                1327\n",
      "Name: Start Station, dtype: int64\n",
      "San Francisco Caltrain (Townsend at 4th)         3652\n",
      "2nd at Townsend                                  2712\n",
      "Market at Sansome                                2575\n",
      "Townsend at 7th                                  2226\n",
      "Embarcadero at Folsom                            1712\n",
      "Embarcadero at Sansome                           1664\n",
      "2nd at South Park                                1654\n",
      "Temporary Transbay Terminal (Howard at Beale)    1640\n",
      "Steuart at Market                                1595\n",
      "San Francisco Caltrain 2 (330 Townsend)          1541\n",
      "Name: End Station, dtype: int64\n"
     ]
    },
    {
     "data": {
      "text/html": [
       "<div>\n",
       "<style>\n",
       "    .dataframe thead tr:only-child th {\n",
       "        text-align: right;\n",
       "    }\n",
       "\n",
       "    .dataframe thead th {\n",
       "        text-align: left;\n",
       "    }\n",
       "\n",
       "    .dataframe tbody tr th {\n",
       "        vertical-align: top;\n",
       "    }\n",
       "</style>\n",
       "<table border=\"1\" class=\"dataframe\">\n",
       "  <thead>\n",
       "    <tr style=\"text-align: right;\">\n",
       "      <th></th>\n",
       "      <th>Start Station</th>\n",
       "      <th>End Station</th>\n",
       "    </tr>\n",
       "  </thead>\n",
       "  <tbody>\n",
       "    <tr>\n",
       "      <th>2nd at South Park</th>\n",
       "      <td>NaN</td>\n",
       "      <td>1654.0</td>\n",
       "    </tr>\n",
       "    <tr>\n",
       "      <th>2nd at Townsend</th>\n",
       "      <td>1683.0</td>\n",
       "      <td>2712.0</td>\n",
       "    </tr>\n",
       "    <tr>\n",
       "      <th>Beale at Market</th>\n",
       "      <td>1374.0</td>\n",
       "      <td>NaN</td>\n",
       "    </tr>\n",
       "    <tr>\n",
       "      <th>Civic Center BART (7th at Market)</th>\n",
       "      <td>1327.0</td>\n",
       "      <td>NaN</td>\n",
       "    </tr>\n",
       "    <tr>\n",
       "      <th>Embarcadero at Folsom</th>\n",
       "      <td>NaN</td>\n",
       "      <td>1712.0</td>\n",
       "    </tr>\n",
       "    <tr>\n",
       "      <th>Embarcadero at Sansome</th>\n",
       "      <td>NaN</td>\n",
       "      <td>1664.0</td>\n",
       "    </tr>\n",
       "    <tr>\n",
       "      <th>Grant Avenue at Columbus Avenue</th>\n",
       "      <td>1750.0</td>\n",
       "      <td>NaN</td>\n",
       "    </tr>\n",
       "    <tr>\n",
       "      <th>Harry Bridges Plaza (Ferry Building)</th>\n",
       "      <td>3134.0</td>\n",
       "      <td>NaN</td>\n",
       "    </tr>\n",
       "    <tr>\n",
       "      <th>Market at Sansome</th>\n",
       "      <td>1431.0</td>\n",
       "      <td>2575.0</td>\n",
       "    </tr>\n",
       "    <tr>\n",
       "      <th>San Francisco Caltrain (Townsend at 4th)</th>\n",
       "      <td>7101.0</td>\n",
       "      <td>3652.0</td>\n",
       "    </tr>\n",
       "    <tr>\n",
       "      <th>San Francisco Caltrain 2 (330 Townsend)</th>\n",
       "      <td>3518.0</td>\n",
       "      <td>1541.0</td>\n",
       "    </tr>\n",
       "    <tr>\n",
       "      <th>Steuart at Market</th>\n",
       "      <td>2243.0</td>\n",
       "      <td>1595.0</td>\n",
       "    </tr>\n",
       "    <tr>\n",
       "      <th>Temporary Transbay Terminal (Howard at Beale)</th>\n",
       "      <td>3346.0</td>\n",
       "      <td>1640.0</td>\n",
       "    </tr>\n",
       "    <tr>\n",
       "      <th>Townsend at 7th</th>\n",
       "      <td>NaN</td>\n",
       "      <td>2226.0</td>\n",
       "    </tr>\n",
       "  </tbody>\n",
       "</table>\n",
       "</div>"
      ],
      "text/plain": [
       "                                               Start Station  End Station\n",
       "2nd at South Park                                        NaN       1654.0\n",
       "2nd at Townsend                                       1683.0       2712.0\n",
       "Beale at Market                                       1374.0          NaN\n",
       "Civic Center BART (7th at Market)                     1327.0          NaN\n",
       "Embarcadero at Folsom                                    NaN       1712.0\n",
       "Embarcadero at Sansome                                   NaN       1664.0\n",
       "Grant Avenue at Columbus Avenue                       1750.0          NaN\n",
       "Harry Bridges Plaza (Ferry Building)                  3134.0          NaN\n",
       "Market at Sansome                                     1431.0       2575.0\n",
       "San Francisco Caltrain (Townsend at 4th)              7101.0       3652.0\n",
       "San Francisco Caltrain 2 (330 Townsend)               3518.0       1541.0\n",
       "Steuart at Market                                     2243.0       1595.0\n",
       "Temporary Transbay Terminal (Howard at Beale)         3346.0       1640.0\n",
       "Townsend at 7th                                          NaN       2226.0"
      ]
     },
     "execution_count": 21,
     "metadata": {},
     "output_type": "execute_result"
    }
   ],
   "source": [
    "m_p = (7,8,9) #Create a list of morning peak hours.\n",
    "morning_start_hi = df1[df1['S_dh'].isin(m_p)]\n",
    "m_s_h = morning_start_hi['Start Station'].value_counts()[:10]\n",
    "morning_end_hi = df1[df1['E_dh'].isin(m_p)]\n",
    "m_e_h = morning_end_hi['End Station'].value_counts()[:10]\n",
    "morning_peak_stations = pd.concat([m_s_h, m_e_h], axis = 1) #Combining start station and end station together to compare.\n",
    "print(m_s_h)\n",
    "print(m_e_h)\n",
    "morning_peak_stations"
   ]
  },
  {
   "cell_type": "markdown",
   "metadata": {},
   "source": [
    "We can see some people are starting their trips from transit hubs like Caltrain station, Ferry terminals and the Transbay Terminal connecting to the East bay, and then stop their trips at Financial District. We can all them \"Inbound commuters\" because they live outside of the downtown and work in the downtown. Vise versa, people who live's in the downtown but work outside of the city, which we can call them \"Outbound commuters\". Outbound commuters are also contributing to the morning peak hours because they also travel to the public transit hubs."
   ]
  },
  {
   "cell_type": "markdown",
   "metadata": {},
   "source": [
    "Evening peak stations."
   ]
  },
  {
   "cell_type": "code",
   "execution_count": 22,
   "metadata": {
    "scrolled": false
   },
   "outputs": [
    {
     "name": "stdout",
     "output_type": "stream",
     "text": [
      "San Francisco Caltrain (Townsend at 4th)         7101\n",
      "San Francisco Caltrain 2 (330 Townsend)          3518\n",
      "Temporary Transbay Terminal (Howard at Beale)    3346\n",
      "Harry Bridges Plaza (Ferry Building)             3134\n",
      "Steuart at Market                                2243\n",
      "Grant Avenue at Columbus Avenue                  1750\n",
      "2nd at Townsend                                  1683\n",
      "Market at Sansome                                1431\n",
      "Beale at Market                                  1374\n",
      "Civic Center BART (7th at Market)                1327\n",
      "Name: Start Station, dtype: int64\n",
      "Embarcadero at Sansome                           2536\n",
      "2nd at Townsend                                  2428\n",
      "San Francisco Caltrain (Townsend at 4th)         2384\n",
      "Market at Sansome                                2282\n",
      "Townsend at 7th                                  2205\n",
      "2nd at South Park                                1892\n",
      "Steuart at Market                                1817\n",
      "Market at 4th                                    1779\n",
      "Market at 10th                                   1668\n",
      "Temporary Transbay Terminal (Howard at Beale)    1653\n",
      "Name: Start Station, dtype: int64\n",
      "San Francisco Caltrain (Townsend at 4th)         8961\n",
      "San Francisco Caltrain 2 (330 Townsend)          4048\n",
      "Harry Bridges Plaza (Ferry Building)             3224\n",
      "Steuart at Market                                2356\n",
      "Temporary Transbay Terminal (Howard at Beale)    2222\n",
      "Embarcadero at Sansome                           2155\n",
      "Market at Sansome                                2021\n",
      "2nd at Townsend                                  1750\n",
      "Powell Street BART                               1647\n",
      "Townsend at 7th                                  1418\n",
      "Name: End Station, dtype: int64\n"
     ]
    },
    {
     "data": {
      "text/html": [
       "<div>\n",
       "<style>\n",
       "    .dataframe thead tr:only-child th {\n",
       "        text-align: right;\n",
       "    }\n",
       "\n",
       "    .dataframe thead th {\n",
       "        text-align: left;\n",
       "    }\n",
       "\n",
       "    .dataframe tbody tr th {\n",
       "        vertical-align: top;\n",
       "    }\n",
       "</style>\n",
       "<table border=\"1\" class=\"dataframe\">\n",
       "  <thead>\n",
       "    <tr style=\"text-align: right;\">\n",
       "      <th></th>\n",
       "      <th>Start Station</th>\n",
       "      <th>End Station</th>\n",
       "    </tr>\n",
       "  </thead>\n",
       "  <tbody>\n",
       "    <tr>\n",
       "      <th>2nd at South Park</th>\n",
       "      <td>1892.0</td>\n",
       "      <td>NaN</td>\n",
       "    </tr>\n",
       "    <tr>\n",
       "      <th>2nd at Townsend</th>\n",
       "      <td>2428.0</td>\n",
       "      <td>1750.0</td>\n",
       "    </tr>\n",
       "    <tr>\n",
       "      <th>Embarcadero at Sansome</th>\n",
       "      <td>2536.0</td>\n",
       "      <td>2155.0</td>\n",
       "    </tr>\n",
       "    <tr>\n",
       "      <th>Harry Bridges Plaza (Ferry Building)</th>\n",
       "      <td>NaN</td>\n",
       "      <td>3224.0</td>\n",
       "    </tr>\n",
       "    <tr>\n",
       "      <th>Market at 10th</th>\n",
       "      <td>1668.0</td>\n",
       "      <td>NaN</td>\n",
       "    </tr>\n",
       "    <tr>\n",
       "      <th>Market at 4th</th>\n",
       "      <td>1779.0</td>\n",
       "      <td>NaN</td>\n",
       "    </tr>\n",
       "    <tr>\n",
       "      <th>Market at Sansome</th>\n",
       "      <td>2282.0</td>\n",
       "      <td>2021.0</td>\n",
       "    </tr>\n",
       "    <tr>\n",
       "      <th>Powell Street BART</th>\n",
       "      <td>NaN</td>\n",
       "      <td>1647.0</td>\n",
       "    </tr>\n",
       "    <tr>\n",
       "      <th>San Francisco Caltrain (Townsend at 4th)</th>\n",
       "      <td>2384.0</td>\n",
       "      <td>8961.0</td>\n",
       "    </tr>\n",
       "    <tr>\n",
       "      <th>San Francisco Caltrain 2 (330 Townsend)</th>\n",
       "      <td>NaN</td>\n",
       "      <td>4048.0</td>\n",
       "    </tr>\n",
       "    <tr>\n",
       "      <th>Steuart at Market</th>\n",
       "      <td>1817.0</td>\n",
       "      <td>2356.0</td>\n",
       "    </tr>\n",
       "    <tr>\n",
       "      <th>Temporary Transbay Terminal (Howard at Beale)</th>\n",
       "      <td>1653.0</td>\n",
       "      <td>2222.0</td>\n",
       "    </tr>\n",
       "    <tr>\n",
       "      <th>Townsend at 7th</th>\n",
       "      <td>2205.0</td>\n",
       "      <td>1418.0</td>\n",
       "    </tr>\n",
       "  </tbody>\n",
       "</table>\n",
       "</div>"
      ],
      "text/plain": [
       "                                               Start Station  End Station\n",
       "2nd at South Park                                     1892.0          NaN\n",
       "2nd at Townsend                                       2428.0       1750.0\n",
       "Embarcadero at Sansome                                2536.0       2155.0\n",
       "Harry Bridges Plaza (Ferry Building)                     NaN       3224.0\n",
       "Market at 10th                                        1668.0          NaN\n",
       "Market at 4th                                         1779.0          NaN\n",
       "Market at Sansome                                     2282.0       2021.0\n",
       "Powell Street BART                                       NaN       1647.0\n",
       "San Francisco Caltrain (Townsend at 4th)              2384.0       8961.0\n",
       "San Francisco Caltrain 2 (330 Townsend)                  NaN       4048.0\n",
       "Steuart at Market                                     1817.0       2356.0\n",
       "Temporary Transbay Terminal (Howard at Beale)         1653.0       2222.0\n",
       "Townsend at 7th                                       2205.0       1418.0"
      ]
     },
     "execution_count": 22,
     "metadata": {},
     "output_type": "execute_result"
    }
   ],
   "source": [
    "e_p = (16,17,18) #Create a list of evening peak hours.\n",
    "evening_start_hi = df1[df1['S_dh'].isin(e_p)]\n",
    "e_s_h = evening_start_hi['Start Station'].value_counts()[:10]\n",
    "evening_end_hi = df1[df1['E_dh'].isin(e_p)]\n",
    "e_e_h = evening_end_hi['End Station'].value_counts()[:10]\n",
    "evening_peak_stations = pd.concat([e_s_h, e_e_h], axis = 1)#Combining start station and end station together to compare.\n",
    "print(m_s_h)\n",
    "print(e_s_h)\n",
    "print(e_e_h)\n",
    "evening_peak_stations"
   ]
  },
  {
   "cell_type": "markdown",
   "metadata": {},
   "source": [
    "Inversely from morning peak hours, we can see inbound commuters are starting their trips from the office(FiDi) to transit hubs. And outbound commuters are starting their trips from hubs to their sweet homes. "
   ]
  },
  {
   "cell_type": "markdown",
   "metadata": {
    "collapsed": true
   },
   "source": [
    "## Dig deeper into the \"San Francisco Caltrain (Townsend at 4th)\" bike station."
   ]
  },
  {
   "cell_type": "code",
   "execution_count": 23,
   "metadata": {},
   "outputs": [],
   "source": [
    "caltrain_s = df1[df1['Start Station'] == \"San Francisco Caltrain (Townsend at 4th)\"]\n",
    "caltrain_e = df1[df1['End Station'] == \"San Francisco Caltrain (Townsend at 4th)\"]"
   ]
  },
  {
   "cell_type": "code",
   "execution_count": 24,
   "metadata": {},
   "outputs": [
    {
     "data": {
      "text/html": [
       "<div>\n",
       "<style>\n",
       "    .dataframe thead tr:only-child th {\n",
       "        text-align: right;\n",
       "    }\n",
       "\n",
       "    .dataframe thead th {\n",
       "        text-align: left;\n",
       "    }\n",
       "\n",
       "    .dataframe tbody tr th {\n",
       "        vertical-align: top;\n",
       "    }\n",
       "</style>\n",
       "<table border=\"1\" class=\"dataframe\">\n",
       "  <thead>\n",
       "    <tr style=\"text-align: right;\">\n",
       "      <th></th>\n",
       "      <th>hours</th>\n",
       "      <th>start_trips</th>\n",
       "      <th>end_trips</th>\n",
       "    </tr>\n",
       "  </thead>\n",
       "  <tbody>\n",
       "    <tr>\n",
       "      <th>0</th>\n",
       "      <td>1</td>\n",
       "      <td>26</td>\n",
       "      <td>35</td>\n",
       "    </tr>\n",
       "    <tr>\n",
       "      <th>1</th>\n",
       "      <td>2</td>\n",
       "      <td>14</td>\n",
       "      <td>11</td>\n",
       "    </tr>\n",
       "    <tr>\n",
       "      <th>2</th>\n",
       "      <td>3</td>\n",
       "      <td>7</td>\n",
       "      <td>7</td>\n",
       "    </tr>\n",
       "    <tr>\n",
       "      <th>3</th>\n",
       "      <td>4</td>\n",
       "      <td>1</td>\n",
       "      <td>2</td>\n",
       "    </tr>\n",
       "    <tr>\n",
       "      <th>4</th>\n",
       "      <td>5</td>\n",
       "      <td>1</td>\n",
       "      <td>1</td>\n",
       "    </tr>\n",
       "    <tr>\n",
       "      <th>5</th>\n",
       "      <td>6</td>\n",
       "      <td>41</td>\n",
       "      <td>1</td>\n",
       "    </tr>\n",
       "    <tr>\n",
       "      <th>6</th>\n",
       "      <td>7</td>\n",
       "      <td>545</td>\n",
       "      <td>533</td>\n",
       "    </tr>\n",
       "    <tr>\n",
       "      <th>7</th>\n",
       "      <td>8</td>\n",
       "      <td>2126</td>\n",
       "      <td>1751</td>\n",
       "    </tr>\n",
       "    <tr>\n",
       "      <th>8</th>\n",
       "      <td>9</td>\n",
       "      <td>3273</td>\n",
       "      <td>3097</td>\n",
       "    </tr>\n",
       "    <tr>\n",
       "      <th>9</th>\n",
       "      <td>10</td>\n",
       "      <td>1702</td>\n",
       "      <td>2159</td>\n",
       "    </tr>\n",
       "    <tr>\n",
       "      <th>10</th>\n",
       "      <td>11</td>\n",
       "      <td>481</td>\n",
       "      <td>559</td>\n",
       "    </tr>\n",
       "    <tr>\n",
       "      <th>11</th>\n",
       "      <td>12</td>\n",
       "      <td>306</td>\n",
       "      <td>274</td>\n",
       "    </tr>\n",
       "    <tr>\n",
       "      <th>12</th>\n",
       "      <td>13</td>\n",
       "      <td>235</td>\n",
       "      <td>236</td>\n",
       "    </tr>\n",
       "    <tr>\n",
       "      <th>13</th>\n",
       "      <td>14</td>\n",
       "      <td>205</td>\n",
       "      <td>196</td>\n",
       "    </tr>\n",
       "    <tr>\n",
       "      <th>14</th>\n",
       "      <td>15</td>\n",
       "      <td>181</td>\n",
       "      <td>200</td>\n",
       "    </tr>\n",
       "    <tr>\n",
       "      <th>15</th>\n",
       "      <td>16</td>\n",
       "      <td>211</td>\n",
       "      <td>209</td>\n",
       "    </tr>\n",
       "    <tr>\n",
       "      <th>16</th>\n",
       "      <td>17</td>\n",
       "      <td>347</td>\n",
       "      <td>348</td>\n",
       "    </tr>\n",
       "    <tr>\n",
       "      <th>17</th>\n",
       "      <td>18</td>\n",
       "      <td>1008</td>\n",
       "      <td>874</td>\n",
       "    </tr>\n",
       "    <tr>\n",
       "      <th>18</th>\n",
       "      <td>19</td>\n",
       "      <td>1029</td>\n",
       "      <td>1056</td>\n",
       "    </tr>\n",
       "    <tr>\n",
       "      <th>19</th>\n",
       "      <td>20</td>\n",
       "      <td>684</td>\n",
       "      <td>824</td>\n",
       "    </tr>\n",
       "    <tr>\n",
       "      <th>20</th>\n",
       "      <td>21</td>\n",
       "      <td>229</td>\n",
       "      <td>257</td>\n",
       "    </tr>\n",
       "    <tr>\n",
       "      <th>21</th>\n",
       "      <td>22</td>\n",
       "      <td>130</td>\n",
       "      <td>136</td>\n",
       "    </tr>\n",
       "    <tr>\n",
       "      <th>22</th>\n",
       "      <td>23</td>\n",
       "      <td>113</td>\n",
       "      <td>129</td>\n",
       "    </tr>\n",
       "    <tr>\n",
       "      <th>23</th>\n",
       "      <td>24</td>\n",
       "      <td>55</td>\n",
       "      <td>55</td>\n",
       "    </tr>\n",
       "  </tbody>\n",
       "</table>\n",
       "</div>"
      ],
      "text/plain": [
       "    hours  start_trips  end_trips\n",
       "0       1           26         35\n",
       "1       2           14         11\n",
       "2       3            7          7\n",
       "3       4            1          2\n",
       "4       5            1          1\n",
       "5       6           41          1\n",
       "6       7          545        533\n",
       "7       8         2126       1751\n",
       "8       9         3273       3097\n",
       "9      10         1702       2159\n",
       "10     11          481        559\n",
       "11     12          306        274\n",
       "12     13          235        236\n",
       "13     14          205        196\n",
       "14     15          181        200\n",
       "15     16          211        209\n",
       "16     17          347        348\n",
       "17     18         1008        874\n",
       "18     19         1029       1056\n",
       "19     20          684        824\n",
       "20     21          229        257\n",
       "21     22          130        136\n",
       "22     23          113        129\n",
       "23     24           55         55"
      ]
     },
     "execution_count": 24,
     "metadata": {},
     "output_type": "execute_result"
    }
   ],
   "source": [
    "caltrain_ss = caltrain_s.groupby(['S_dh'])['Trip ID'].count()\n",
    "caltrain_se = caltrain_s.groupby(['E_dh'])['Trip ID'].count()\n",
    "caltrain_ss1 = pd.Series(caltrain_ss, name='start_trips')\n",
    "caltrain_se1 = pd.Series(caltrain_se, name='end_trips')\n",
    "hours = np.arange(1,25)\n",
    "hours1 = pd.Series(hours, name='hours')\n",
    "caltrain = pd.concat([hours1, caltrain_ss1, caltrain_se1], axis=1)\n",
    "\n",
    "caltrain"
   ]
  },
  {
   "cell_type": "code",
   "execution_count": 34,
   "metadata": {},
   "outputs": [
    {
     "data": {
      "text/html": [
       "<iframe id=\"igraph\" scrolling=\"no\" style=\"border:none;\" seamless=\"seamless\" src=\"https://plot.ly/~weiji0515/8.embed\" height=\"525px\" width=\"100%\"></iframe>"
      ],
      "text/plain": [
       "<plotly.tools.PlotlyDisplay object>"
      ]
     },
     "execution_count": 34,
     "metadata": {},
     "output_type": "execute_result"
    }
   ],
   "source": [
    "import plotly \n",
    "plotly.tools.set_credentials_file(username='weiji0515', api_key='MbGE81yfuLKIJETvRqIU')\n",
    "x = hours\n",
    "y1 = caltrain_ss\n",
    "y2 = caltrain_se\n",
    "\n",
    "# Create traces\n",
    "trace1 = go.Scatter(\n",
    "    x = x,\n",
    "    y = y1,\n",
    "    mode = 'lines+markers',\n",
    "    name = 'start from Caltrain'\n",
    ")\n",
    "trace2 = go.Scatter(\n",
    "    x = x,\n",
    "    y = y2,\n",
    "    mode = 'lines+markers',\n",
    "    name = 'end to Caltrain'\n",
    ")\n",
    "\n",
    "data = [trace1, trace2]\n",
    "\n",
    "py.iplot(data)\n"
   ]
  },
  {
   "cell_type": "code",
   "execution_count": null,
   "metadata": {
    "collapsed": true
   },
   "outputs": [],
   "source": []
  }
 ],
 "metadata": {
  "kernelspec": {
   "display_name": "Python 3",
   "language": "python",
   "name": "python3"
  },
  "language_info": {
   "codemirror_mode": {
    "name": "ipython",
    "version": 3
   },
   "file_extension": ".py",
   "mimetype": "text/x-python",
   "name": "python",
   "nbconvert_exporter": "python",
   "pygments_lexer": "ipython3",
   "version": "3.6.1"
  }
 },
 "nbformat": 4,
 "nbformat_minor": 2
}
